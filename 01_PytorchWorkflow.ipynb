{
  "nbformat": 4,
  "nbformat_minor": 0,
  "metadata": {
    "colab": {
      "provenance": [],
      "gpuType": "T4",
      "authorship_tag": "ABX9TyPbnpb6LsW8Jh55e6CUQUKU",
      "include_colab_link": true
    },
    "kernelspec": {
      "name": "python3",
      "display_name": "Python 3"
    },
    "language_info": {
      "name": "python"
    },
    "accelerator": "GPU"
  },
  "cells": [
    {
      "cell_type": "markdown",
      "metadata": {
        "id": "view-in-github",
        "colab_type": "text"
      },
      "source": [
        "<a href=\"https://colab.research.google.com/github/tranviviana/PyTorch/blob/main/01_PytorchWorkflow.ipynb\" target=\"_parent\"><img src=\"https://colab.research.google.com/assets/colab-badge.svg\" alt=\"Open In Colab\"/></a>"
      ]
    },
    {
      "cell_type": "markdown",
      "source": [
        "1. get data ready (convert to tensors)\n",
        "2. Build or pick a pretrained model\n",
        "\n",
        "*   Pick a loss function and optimizer\n",
        "*   Build a training loop\n",
        "3. Fit the model to the data and make a prediction\n",
        "4. Evaluate the model\n",
        "5. Improve through experimentation\n",
        "6. Save and reload your trained model"
      ],
      "metadata": {
        "id": "B5GHralERMlI"
      }
    },
    {
      "cell_type": "markdown",
      "source": [
        "Exploring end to end workflow\n"
      ],
      "metadata": {
        "id": "pLEjq848R15y"
      }
    },
    {
      "cell_type": "code",
      "source": [
        "what_were_covering = {1: \"data (prepare and load)\",\n",
        "                      2: \"build model\",\n",
        "                      3: \"fitting the model to data (training)\",\n",
        "                      4: \"making predictions and evaluating a model (inference)\",\n",
        "                      5: \"saving and loading a model\",\n",
        "                      6: \"putting it all together\"\n",
        "}\n",
        "what_were_covering"
      ],
      "metadata": {
        "colab": {
          "base_uri": "https://localhost:8080/"
        },
        "id": "nB9w1O76a3_9",
        "outputId": "d0e79d31-fabb-4af7-cc08-a40fd9770282"
      },
      "execution_count": 3,
      "outputs": [
        {
          "output_type": "execute_result",
          "data": {
            "text/plain": [
              "{1: 'data (prepare and load)',\n",
              " 2: 'build model',\n",
              " 3: 'fitting the model to data (training)',\n",
              " 4: 'making predictions and evaluating a model (inference)',\n",
              " 5: 'saving and loading a model',\n",
              " 6: 'putting it all together'}"
            ]
          },
          "metadata": {},
          "execution_count": 3
        }
      ]
    },
    {
      "cell_type": "code",
      "source": [
        "import torch\n",
        "from torch import nn ##nn contains all of pytorch's building blocks for neural networks\n",
        "import matplotlib.pyplot as plt\n",
        "\n",
        "torch.__version__"
      ],
      "metadata": {
        "colab": {
          "base_uri": "https://localhost:8080/",
          "height": 35
        },
        "id": "pT5uhAA5bvZ7",
        "outputId": "99563bb6-3675-4d57-fa82-1c2d8d95e038"
      },
      "execution_count": 4,
      "outputs": [
        {
          "output_type": "execute_result",
          "data": {
            "text/plain": [
              "'2.3.1+cu121'"
            ],
            "application/vnd.google.colaboratory.intrinsic+json": {
              "type": "string"
            }
          },
          "metadata": {},
          "execution_count": 4
        }
      ]
    },
    {
      "cell_type": "markdown",
      "source": [
        "##1. data: preparing and loading\n",
        "\n",
        "could be anything\n",
        "\n",
        "\n",
        "*   excel\n",
        "*   images\n",
        "*   Videos/audio/text\n",
        "*   DNA\n",
        "\n",
        "\n",
        "ML is a game of two parts:\n",
        "1. get data into numerical representation\n",
        "2. Build a model to learn patters about it\n",
        "\n",
        "Using a linear regression formula to make a straight line with known **parameters**\n"
      ],
      "metadata": {
        "id": "kOHwegudb4SN"
      }
    },
    {
      "cell_type": "code",
      "source": [
        "#create *known* parameters\n",
        "weight = 0.7 #slope\n",
        "bias = 0.3 #intercept\n",
        "\n",
        "#create\n",
        "start = 0\n",
        "end = 1\n",
        "step = 0.02\n",
        "X = torch.arange(start, end, step).unsqueeze(dim =1)\n",
        "Z = X.squeeze(dim=1)\n",
        "Y = weight * X + bias\n",
        "\n",
        "X[:10], Y[:10], Z[:10]"
      ],
      "metadata": {
        "colab": {
          "base_uri": "https://localhost:8080/"
        },
        "id": "C6WyRWm-cLwA",
        "outputId": "152a493f-0a9b-4208-effd-f0b69f47949e"
      },
      "execution_count": 5,
      "outputs": [
        {
          "output_type": "execute_result",
          "data": {
            "text/plain": [
              "(tensor([[0.0000],\n",
              "         [0.0200],\n",
              "         [0.0400],\n",
              "         [0.0600],\n",
              "         [0.0800],\n",
              "         [0.1000],\n",
              "         [0.1200],\n",
              "         [0.1400],\n",
              "         [0.1600],\n",
              "         [0.1800]]),\n",
              " tensor([[0.3000],\n",
              "         [0.3140],\n",
              "         [0.3280],\n",
              "         [0.3420],\n",
              "         [0.3560],\n",
              "         [0.3700],\n",
              "         [0.3840],\n",
              "         [0.3980],\n",
              "         [0.4120],\n",
              "         [0.4260]]),\n",
              " tensor([0.0000, 0.0200, 0.0400, 0.0600, 0.0800, 0.1000, 0.1200, 0.1400, 0.1600,\n",
              "         0.1800]))"
            ]
          },
          "metadata": {},
          "execution_count": 5
        }
      ]
    },
    {
      "cell_type": "code",
      "source": [
        "len(X), len(Y)"
      ],
      "metadata": {
        "colab": {
          "base_uri": "https://localhost:8080/"
        },
        "id": "YcfquXy4d_wR",
        "outputId": "954733b5-900b-4613-ebf9-1081d0f0c7dc"
      },
      "execution_count": 6,
      "outputs": [
        {
          "output_type": "execute_result",
          "data": {
            "text/plain": [
              "(50, 50)"
            ]
          },
          "metadata": {},
          "execution_count": 6
        }
      ]
    },
    {
      "cell_type": "code",
      "source": [
        "#have our system figure out our formula\n",
        "#splitting data into training and testing data --> important !\n",
        "#training -> set the model learns patterns from ; validation -> tuning model ; test -> ready for new stuff\n"
      ],
      "metadata": {
        "id": "MUTkCPOUeH6H"
      },
      "execution_count": 7,
      "outputs": []
    },
    {
      "cell_type": "code",
      "source": [
        "# create a train/test split\n",
        "train_split = int(0.8 * len(X))\n",
        "X_train, Y_train = X[:train_split], Y[:train_split]\n",
        "X_test, Y_test = X[train_split:], Y[train_split:]\n",
        "\n",
        "len(X_train), len(Y_train), len(X_test), len(Y_test)"
      ],
      "metadata": {
        "colab": {
          "base_uri": "https://localhost:8080/"
        },
        "id": "Yhj4AAdufOoo",
        "outputId": "4db83b29-6741-49c0-820c-6d00bc2be2e0"
      },
      "execution_count": 8,
      "outputs": [
        {
          "output_type": "execute_result",
          "data": {
            "text/plain": [
              "(40, 40, 10, 10)"
            ]
          },
          "metadata": {},
          "execution_count": 8
        }
      ]
    },
    {
      "cell_type": "code",
      "source": [
        "#visualizing data -> matplot\n",
        "def plot_predictions(train_data = X_train,\n",
        "                     train_labels = Y_train,\n",
        "                     test_data = X_test,\n",
        "                     test_labels = Y_test,\n",
        "                     predictions = None):\n",
        "  #plots training data, test data, and compares predictions\n",
        "  plt.figure(figsize=(10,7))\n",
        "  #training data in blue\n",
        "  plt.scatter(train_data, train_labels, c=\"b\", s=4, label=\"Training Data\")\n",
        "  plt.scatter(test_data, test_labels, c=\"g\", s=4, label=\"Testing Data\")\n",
        "\n",
        "  #Are there predictions\n",
        "  if predictions is not None:\n",
        "    plt.scatter(test_data, predictions, c=\"r\", s=4, label=\"Predictions\")\n",
        "  plt.legend(prop={\"size\": 14})\n"
      ],
      "metadata": {
        "id": "7_li5ON4f0sf"
      },
      "execution_count": 9,
      "outputs": []
    },
    {
      "cell_type": "code",
      "source": [
        "plot_predictions()"
      ],
      "metadata": {
        "colab": {
          "base_uri": "https://localhost:8080/",
          "height": 460
        },
        "id": "Tx4qfUA9umdB",
        "outputId": "dfcae4a3-3821-4331-816a-f30bbef893d2"
      },
      "execution_count": 10,
      "outputs": [
        {
          "output_type": "display_data",
          "data": {
            "text/plain": [
              "<Figure size 1000x700 with 1 Axes>"
            ],
            "image/png": "[encoded data removed]"
          },
          "metadata": {}
        }
      ]
    },
    {
      "cell_type": "markdown",
      "source": [
        "##2. Building model\n",
        "\n",
        "1. Starts with random values (weight and bias)\n",
        "2. Looks at training data and adjusts values to the ideal value\n",
        "\n",
        "How does it do so?\n",
        "1. gradient descent\n",
        "2. backpropagation"
      ],
      "metadata": {
        "id": "Gdk7OkRquqIh"
      }
    },
    {
      "cell_type": "code",
      "source": [
        "#linear regression model class\n",
        "class LinearRegressionModel(nn.Module):\n",
        "  #good inheritor\n",
        "  def __init__(self):\n",
        "    super().__init__()\n",
        "    self.weight = nn.Parameter(torch.randn(1,\n",
        "                                            requires_grad=True,\n",
        "                                            dtype=torch.float))\n",
        "    self.bias = nn.Parameter(torch.rand(1,\n",
        "                                      requires_grad=True,\n",
        "                                      dtype=torch.float))\n",
        "  # Forward method to define the computation in the model\n",
        "  #x: is input type -> output type\n",
        "  def forward(self, x: torch.Tensor) -> torch.Tensor:\n",
        "    return self.weight * x + self.bias\n",
        "\n",
        "\n"
      ],
      "metadata": {
        "id": "zFJqWdY3vFeM"
      },
      "execution_count": 11,
      "outputs": []
    },
    {
      "cell_type": "markdown",
      "source": [
        "### pytorch model building essentials\n",
        "* torch.nn - contains all of the buildings for computational graphs (aka neural nets)\n",
        "* torch.nn.Parameter - what parameters are trying to learn, usually torch.nn will set this for us\n",
        "* torch.nn.Module - base class for all nn modules, make sure to override forward if you make on\n",
        "* torch.optim - this is where the optimizers in PyTorch live, helps with grad descent\n",
        "* def forward() - all nn.module subclasses require and override tells what you are doing\n",
        "https://pytorch.org/tutorials/beginner/ptcheat.html"
      ],
      "metadata": {
        "id": "_BCaZtFMtaqw"
      }
    },
    {
      "cell_type": "code",
      "source": [
        "### Checking contents of our pytorch model\n",
        "#.parameters() check our model parameters\n",
        "torch.manual_seed(42)\n",
        "#create an instance of the model we created\n",
        "model_0 = LinearRegressionModel()\n",
        "model_0\n",
        "list(model_0.parameters())"
      ],
      "metadata": {
        "colab": {
          "base_uri": "https://localhost:8080/"
        },
        "id": "MkHFQNhZuFJm",
        "outputId": "9181fb31-5002-4f05-9d9d-7e7314fa46aa"
      },
      "execution_count": 12,
      "outputs": [
        {
          "output_type": "execute_result",
          "data": {
            "text/plain": [
              "[Parameter containing:\n",
              " tensor([0.3367], requires_grad=True),\n",
              " Parameter containing:\n",
              " tensor([0.3904], requires_grad=True)]"
            ]
          },
          "metadata": {},
          "execution_count": 12
        }
      ]
    },
    {
      "cell_type": "code",
      "source": [
        "#named parameters\n",
        "model_0.state_dict()"
      ],
      "metadata": {
        "colab": {
          "base_uri": "https://localhost:8080/"
        },
        "id": "n33JE5PP2j6W",
        "outputId": "6f91cf59-e5ea-42e1-b6f5-c01bcc89238a"
      },
      "execution_count": 13,
      "outputs": [
        {
          "output_type": "execute_result",
          "data": {
            "text/plain": [
              "OrderedDict([('weight', tensor([0.3367])), ('bias', tensor([0.3904]))])"
            ]
          },
          "metadata": {},
          "execution_count": 13
        }
      ]
    },
    {
      "cell_type": "markdown",
      "source": [
        "### predictions through torch.inference_mode()\n",
        "\n",
        "To check our model's predictive power, lets see how well it predicts our dependent variable from our independent variable\n",
        "pass date throuhg --> forward()"
      ],
      "metadata": {
        "id": "keLEWFGt3D6E"
      }
    },
    {
      "cell_type": "code",
      "source": [
        "X_test, Y_test"
      ],
      "metadata": {
        "colab": {
          "base_uri": "https://localhost:8080/"
        },
        "id": "mPF9BykB35SC",
        "outputId": "bf38978b-fe03-42c1-c1c8-ddaf1fdcf8fe"
      },
      "execution_count": 14,
      "outputs": [
        {
          "output_type": "execute_result",
          "data": {
            "text/plain": [
              "(tensor([[0.8000],\n",
              "         [0.8200],\n",
              "         [0.8400],\n",
              "         [0.8600],\n",
              "         [0.8800],\n",
              "         [0.9000],\n",
              "         [0.9200],\n",
              "         [0.9400],\n",
              "         [0.9600],\n",
              "         [0.9800]]),\n",
              " tensor([[0.8600],\n",
              "         [0.8740],\n",
              "         [0.8880],\n",
              "         [0.9020],\n",
              "         [0.9160],\n",
              "         [0.9300],\n",
              "         [0.9440],\n",
              "         [0.9580],\n",
              "         [0.9720],\n",
              "         [0.9860]]))"
            ]
          },
          "metadata": {},
          "execution_count": 14
        }
      ]
    },
    {
      "cell_type": "code",
      "source": [
        "with torch.inference_mode(): #inference mode takes out the grad funcion\n",
        "  y_preds= model_0(X_test)\n",
        "  #torch.no_grad() similar but inference is preferred\n",
        "y_preds\n"
      ],
      "metadata": {
        "colab": {
          "base_uri": "https://localhost:8080/"
        },
        "id": "gFOGkSLZ3x4K",
        "outputId": "61b94b1d-21c3-4f35-ed44-3bd8e362ca54"
      },
      "execution_count": 15,
      "outputs": [
        {
          "output_type": "execute_result",
          "data": {
            "text/plain": [
              "tensor([[0.6598],\n",
              "        [0.6665],\n",
              "        [0.6733],\n",
              "        [0.6800],\n",
              "        [0.6867],\n",
              "        [0.6935],\n",
              "        [0.7002],\n",
              "        [0.7069],\n",
              "        [0.7137],\n",
              "        [0.7204]])"
            ]
          },
          "metadata": {},
          "execution_count": 15
        }
      ]
    },
    {
      "cell_type": "code",
      "source": [
        "#the \"random\" predictions\n",
        "plot_predictions(predictions = y_preds)"
      ],
      "metadata": {
        "colab": {
          "base_uri": "https://localhost:8080/",
          "height": 460
        },
        "id": "nSmVPTdb4e1q",
        "outputId": "418b49c0-678b-4872-8946-c7f14e8eb09b"
      },
      "execution_count": 16,
      "outputs": [
        {
          "output_type": "display_data",
          "data": {
            "text/plain": [
              "<Figure size 1000x700 with 1 Axes>"
            ],
            "image/png": "[encoded data removed]"
          },
          "metadata": {}
        }
      ]
    },
    {
      "cell_type": "markdown",
      "source": [
        "###2. Creating Training Code\n",
        "\n",
        "move from unknown parameters to known parameters -> bad representation to good representation\n",
        "\n",
        "Measure how poor/wrong model is, create a loss function(criterion/ cost function)\n",
        "\n",
        "Things we need to train\n",
        "\n",
        "**Loss Function**: function to measure how off a prediction is\n",
        "\n",
        "**Optimizer**: take into account the loss of a model and adjusts the models parameters\n",
        "\n",
        "    - inside an optimizer you have\n",
        "        - params - the model parameters\n",
        "        - lr (learning rate) - the hyperparameter that defines how big/small the optimizer changes the parameters with each step\n",
        "\n",
        "And specifically for PyTorch, we need\n",
        "\n",
        "\n",
        "*   training loop\n",
        "*   testing loop\n",
        "\n"
      ],
      "metadata": {
        "id": "ZJ6XbnPb44FT"
      }
    },
    {
      "cell_type": "code",
      "source": [
        "#looking at models parameters\n",
        "model_0.state_dict()"
      ],
      "metadata": {
        "colab": {
          "base_uri": "https://localhost:8080/"
        },
        "id": "Mwupmdjq6Xbt",
        "outputId": "17392ae4-eca9-4ee8-d78a-02747a231268"
      },
      "execution_count": 17,
      "outputs": [
        {
          "output_type": "execute_result",
          "data": {
            "text/plain": [
              "OrderedDict([('weight', tensor([0.3367])), ('bias', tensor([0.3904]))])"
            ]
          },
          "metadata": {},
          "execution_count": 17
        }
      ]
    },
    {
      "cell_type": "code",
      "source": [
        "##setting up the loss function\n",
        "\"\"\"MAE_loss (l1 norm) = torch.mean(torch.abs(y_pred-Y_test))\"\"\"\n",
        "loss_fn = torch.nn.L1Loss()\n",
        "## setting up the optimizer (stochastic gradient descent) changes one till it messes up and changes the other\n",
        "optimizer = torch.optim.SGD(params=model_0.parameters(),\n",
        "                            lr = 0.01) #lr learning rate = adjustment rate"
      ],
      "metadata": {
        "id": "P0sX9JeS6aZ4"
      },
      "execution_count": 18,
      "outputs": []
    },
    {
      "cell_type": "code",
      "source": [
        "##Building a Training Loop (and teseting loop)\n",
        "\n",
        "\"\"\"\n",
        "0. Loop through the data\n",
        "1. forward pass (this involves data moving through forward functions) to make predictions on data\n",
        "2. Calculate the loss - compare pass predictions to ground truth labels\n",
        "3. Optimizer zero grad\n",
        "4. Loss backward [Back Propogation] - move backwards through the network to calculate the gradients of each of the parameters of our model with respect to loss\n",
        "5. Optimizer step [gradient descent] - use optimizer to adjust our model's parameters to try and improve the loss\n",
        "\"\"\""
      ],
      "metadata": {
        "colab": {
          "base_uri": "https://localhost:8080/",
          "height": 137
        },
        "id": "jnLI5Ih67t0w",
        "outputId": "3c63b8c5-e25e-454e-abca-6c85c14572d0"
      },
      "execution_count": 19,
      "outputs": [
        {
          "output_type": "execute_result",
          "data": {
            "text/plain": [
              "\"\\n0. Loop through the data \\n1. forward pass (this involves data moving through forward functions) to make predictions on data\\n2. Calculate the loss - compare pass predictions to ground truth labels\\n3. Optimizer zero grad\\n4. Loss backward [Back Propogation] - move backwards through the network to calculate the gradients of each of the parameters of our model with respect to loss\\n5. Optimizer step [gradient descent] - use optimizer to adjust our model's parameters to try and improve the loss\\n\""
            ],
            "application/vnd.google.colaboratory.intrinsic+json": {
              "type": "string"
            }
          },
          "metadata": {},
          "execution_count": 19
        }
      ]
    },
    {
      "cell_type": "code",
      "source": [
        "# an epoch is one loop through the data ...\n",
        "epochs = 200 #hyperparameter becasue we've set them ourselves\n",
        "\n",
        "#track different values\n",
        "epoch_count = []\n",
        "loss_values = []\n",
        "test_loss_values = []\n",
        "##Learning on the data!!!\n",
        "\n",
        "###training\n",
        "#0. loop through the data\n",
        "for epoch in range(epochs):\n",
        "  #set model to training mode ... require gradients\n",
        "  model_0.train()\n",
        "  #1. Foward pass\n",
        "  y_pred = model_0(X_train) #passing through the training data (part 1)\n",
        "\n",
        "  #2. Calculate the loss\n",
        "  loss = loss_fn(y_pred, Y_train) #from setting up loss function\n",
        "  print(f\"loss {loss}\")\n",
        "  #3. Optimizer zero grad\n",
        "  optimizer.zero_grad()\n",
        "\n",
        "  #4. Perform backpropagation on the loss with repsect to the parameters of the model\n",
        "  loss.backward()\n",
        "\n",
        "  #5. step the optimizer (perform gradient descent)\n",
        "  optimizer.step() #by default how the optimizer accumulates so we have to zero it so the step doesnt change\n",
        "\n",
        "  #testing\n",
        "  model_0.eval() #tusn off different settings in model not needed for evaluation(dropout/matchnorm)\n",
        "  with torch.inference_mode(): #turns off gradient tracking\n",
        "    #1. do the forward pass\n",
        "    test_pred = model_0(X_test)\n",
        "\n",
        "    #2. calculate the loss\n",
        "    test_loss = loss_fn(test_pred,Y_test)\n",
        "  if epoch % 10 == 0:\n",
        "    epoch_count.append(epoch)\n",
        "    loss_values.append(loss)\n",
        "    test_loss_values.append(test_loss)\n",
        "    print(f\"Epoch: {epoch} | Loss: {loss} | Test loss: {test_loss}\")\n",
        "    print(model_0.state_dict())\n",
        "\n"
      ],
      "metadata": {
        "colab": {
          "base_uri": "https://localhost:8080/"
        },
        "id": "Gbj0a64j7upZ",
        "outputId": "72385360-3e22-4bd3-e504-e10b929f074e"
      },
      "execution_count": 20,
      "outputs": [
        {
          "output_type": "stream",
          "name": "stdout",
          "text": [
            "loss 0.08169572055339813\n",
            "Epoch: 0 | Loss: 0.08169572055339813 | Test loss: 0.22662055492401123\n",
            "OrderedDict([('weight', tensor([0.3398])), ('bias', tensor([0.3939]))])\n",
            "loss 0.07951223105192184\n",
            "loss 0.07771821320056915\n",
            "loss 0.07596267759799957\n",
            "loss 0.07452543079853058\n",
            "loss 0.07310795783996582\n",
            "loss 0.07197895646095276\n",
            "loss 0.0708499550819397\n",
            "loss 0.0698218122124672\n",
            "loss 0.06895165145397186\n",
            "loss 0.06808149069547653\n",
            "Epoch: 10 | Loss: 0.06808149069547653 | Test loss: 0.1807345449924469\n",
            "OrderedDict([('weight', tensor([0.3672])), ('bias', tensor([0.4154]))])\n",
            "loss 0.06732632219791412\n",
            "loss 0.06666463613510132\n",
            "loss 0.06600294262170792\n",
            "loss 0.06540142744779587\n",
            "loss 0.06489682197570801\n",
            "loss 0.06439221650362015\n",
            "loss 0.06388760358095169\n",
            "loss 0.06338393688201904\n",
            "loss 0.062983937561512\n",
            "loss 0.06258393079042435\n",
            "Epoch: 20 | Loss: 0.06258393079042435 | Test loss: 0.15627031028270721\n",
            "OrderedDict([('weight', tensor([0.3891])), ('bias', tensor([0.4204]))])\n",
            "loss 0.062183927744627\n",
            "loss 0.06178393214941025\n",
            "loss 0.0613839253783226\n",
            "loss 0.06098393350839615\n",
            "loss 0.0605839304625988\n",
            "loss 0.06018794700503349\n",
            "loss 0.05983894318342209\n",
            "loss 0.059489935636520386\n",
            "loss 0.05914094299077988\n",
            "loss 0.05879194289445877\n",
            "Epoch: 30 | Loss: 0.05879194289445877 | Test loss: 0.1418602615594864\n",
            "OrderedDict([('weight', tensor([0.4081])), ('bias', tensor([0.4179]))])\n",
            "loss 0.058442939072847366\n",
            "loss 0.05809393525123596\n",
            "loss 0.057744938880205154\n",
            "loss 0.057395946234464645\n",
            "loss 0.05704693868756294\n",
            "loss 0.05669793486595154\n",
            "loss 0.05634894222021103\n",
            "loss 0.05599994212388992\n",
            "loss 0.055650949478149414\n",
            "loss 0.05530194193124771\n",
            "Epoch: 40 | Loss: 0.05530194193124771 | Test loss: 0.13084018230438232\n",
            "OrderedDict([('weight', tensor([0.4261])), ('bias', tensor([0.4129]))])\n",
            "loss 0.0549529492855072\n",
            "loss 0.0546039454638958\n",
            "loss 0.05425494909286499\n",
            "loss 0.053905945271253586\n",
            "loss 0.05355694144964218\n",
            "loss 0.053207945078611374\n",
            "loss 0.05285894125699997\n",
            "loss 0.05250995233654976\n",
            "loss 0.052160948514938354\n",
            "loss 0.051822252571582794\n",
            "Epoch: 50 | Loss: 0.051822252571582794 | Test loss: 0.12050700187683105\n",
            "OrderedDict([('weight', tensor([0.4439])), ('bias', tensor([0.4074]))])\n",
            "loss 0.05147574469447136\n",
            "loss 0.05113323777914047\n",
            "loss 0.050790537148714066\n",
            "loss 0.05044422671198845\n",
            "loss 0.050105344504117966\n",
            "loss 0.04975634068250656\n",
            "loss 0.04941902309656143\n",
            "loss 0.049071140587329865\n",
            "loss 0.04873000830411911\n",
            "loss 0.04838593676686287\n",
            "Epoch: 60 | Loss: 0.04838593676686287 | Test loss: 0.11223447322845459\n",
            "OrderedDict([('weight', tensor([0.4610])), ('bias', tensor([0.4004]))])\n",
            "loss 0.048041004687547684\n",
            "loss 0.047700732946395874\n",
            "loss 0.04735199362039566\n",
            "loss 0.04701553285121918\n",
            "loss 0.04666654020547867\n",
            "loss 0.04632677882909775\n",
            "loss 0.04598133638501167\n",
            "loss 0.04563777148723602\n",
            "loss 0.04529613256454468\n",
            "loss 0.044948760420084\n",
            "Epoch: 70 | Loss: 0.044948760420084 | Test loss: 0.10464880615472794\n",
            "OrderedDict([('weight', tensor([0.4780])), ('bias', tensor([0.3929]))])\n",
            "loss 0.04461093619465828\n",
            "loss 0.04426193609833717\n",
            "loss 0.043923549354076385\n",
            "loss 0.04357672855257988\n",
            "loss 0.04323454201221466\n",
            "loss 0.042891524732112885\n",
            "loss 0.042545534670352936\n",
            "loss 0.042206332087516785\n",
            "loss 0.04185732454061508\n",
            "loss 0.04152031987905502\n",
            "Epoch: 80 | Loss: 0.04152031987905502 | Test loss: 0.09637625515460968\n",
            "OrderedDict([('weight', tensor([0.4951])), ('bias', tensor([0.3859]))])\n",
            "loss 0.041172128170728683\n",
            "loss 0.0408313125371933\n",
            "loss 0.04048692435026169\n",
            "loss 0.04014230892062187\n",
            "loss 0.03980172425508499\n",
            "loss 0.03945329785346985\n",
            "loss 0.039116524159908295\n",
            "loss 0.03876752778887749\n",
            "loss 0.038428083062171936\n",
            "loss 0.03808232396841049\n",
            "Epoch: 90 | Loss: 0.03808232396841049 | Test loss: 0.08810374140739441\n",
            "OrderedDict([('weight', tensor([0.5123])), ('bias', tensor([0.3789]))])\n",
            "loss 0.03773907572031021\n",
            "loss 0.037397127598524094\n",
            "loss 0.03705006465315819\n",
            "loss 0.0367119237780571\n",
            "loss 0.03636292368173599\n",
            "loss 0.03602485731244087\n",
            "loss 0.0356777161359787\n",
            "loss 0.03533584997057915\n",
            "loss 0.0349925234913826\n",
            "loss 0.034646838903427124\n",
            "Epoch: 100 | Loss: 0.034646838903427124 | Test loss: 0.08051808178424835\n",
            "OrderedDict([('weight', tensor([0.5293])), ('bias', tensor([0.3714]))])\n",
            "loss 0.034307319670915604\n",
            "loss 0.0339583158493042\n",
            "loss 0.03362162038683891\n",
            "loss 0.0332731194794178\n",
            "loss 0.03293261304497719\n",
            "loss 0.0325879231095314\n",
            "loss 0.03224359080195427\n",
            "loss 0.03190271928906441\n",
            "loss 0.03155459091067314\n",
            "loss 0.031217509880661964\n",
            "Epoch: 110 | Loss: 0.031217509880661964 | Test loss: 0.0722455382347107\n",
            "OrderedDict([('weight', tensor([0.5464])), ('bias', tensor([0.3644]))])\n",
            "loss 0.03086850605905056\n",
            "loss 0.030529383569955826\n",
            "loss 0.03018330968916416\n",
            "loss 0.029840370640158653\n",
            "loss 0.029498090967535973\n",
            "loss 0.029151368886232376\n",
            "loss 0.02881290577352047\n",
            "loss 0.028463905677199364\n",
            "loss 0.028126155957579613\n",
            "loss 0.027778705582022667\n",
            "Epoch: 120 | Loss: 0.027778705582022667 | Test loss: 0.06397300213575363\n",
            "OrderedDict([('weight', tensor([0.5636])), ('bias', tensor([0.3574]))])\n",
            "loss 0.02743714675307274\n",
            "loss 0.02709350362420082\n",
            "loss 0.026748131960630417\n",
            "loss 0.026408309116959572\n",
            "loss 0.02605929970741272\n",
            "loss 0.02572292648255825\n",
            "loss 0.02537410333752632\n",
            "loss 0.02503391169011593\n",
            "loss 0.024688903242349625\n",
            "loss 0.024344902485609055\n",
            "Epoch: 130 | Loss: 0.024344902485609055 | Test loss: 0.05638733506202698\n",
            "OrderedDict([('weight', tensor([0.5805])), ('bias', tensor([0.3499]))])\n",
            "loss 0.02400369569659233\n",
            "loss 0.02365589514374733\n",
            "loss 0.023318495601415634\n",
            "loss 0.022969502955675125\n",
            "loss 0.022630682215094566\n",
            "loss 0.02228429540991783\n",
            "loss 0.021941671147942543\n",
            "loss 0.021599095314741135\n",
            "loss 0.021252665668725967\n",
            "loss 0.020913895219564438\n",
            "Epoch: 140 | Loss: 0.020913895219564438 | Test loss: 0.04811479523777962\n",
            "OrderedDict([('weight', tensor([0.5977])), ('bias', tensor([0.3429]))])\n",
            "loss 0.020564889535307884\n",
            "loss 0.020227450877428055\n",
            "loss 0.019879689440131187\n",
            "loss 0.01953843981027603\n",
            "loss 0.01919448934495449\n",
            "loss 0.018849428743124008\n",
            "loss 0.018509289249777794\n",
            "loss 0.018160417675971985\n",
            "loss 0.01782408356666565\n",
            "loss 0.017475087195634842\n",
            "Epoch: 150 | Loss: 0.017475087195634842 | Test loss: 0.03984225541353226\n",
            "OrderedDict([('weight', tensor([0.6148])), ('bias', tensor([0.3359]))])\n",
            "loss 0.01713521033525467\n",
            "loss 0.016789885237812996\n",
            "loss 0.016446199268102646\n",
            "loss 0.01610468327999115\n",
            "loss 0.015757188200950623\n",
            "loss 0.01541948039084673\n",
            "loss 0.015070480294525623\n",
            "loss 0.01473198551684618\n",
            "loss 0.014385280199348927\n",
            "loss 0.014042967930436134\n",
            "Epoch: 160 | Loss: 0.014042967930436134 | Test loss: 0.0322565920650959\n",
            "OrderedDict([('weight', tensor([0.6318])), ('bias', tensor([0.3284]))])\n",
            "loss 0.013700077310204506\n",
            "loss 0.013353961519896984\n",
            "loss 0.01301487348973751\n",
            "loss 0.012665877118706703\n",
            "loss 0.012328749522566795\n",
            "loss 0.011980678886175156\n",
            "loss 0.011639741249382496\n",
            "loss 0.011295471340417862\n",
            "loss 0.010950731113553047\n",
            "loss 0.010610274039208889\n",
            "Epoch: 170 | Loss: 0.010610274039208889 | Test loss: 0.02398405596613884\n",
            "OrderedDict([('weight', tensor([0.6490])), ('bias', tensor([0.3214]))])\n",
            "loss 0.01026171911507845\n",
            "loss 0.009925071150064468\n",
            "loss 0.009576069191098213\n",
            "loss 0.009236511774361134\n",
            "loss 0.008890870027244091\n",
            "loss 0.008547498844563961\n",
            "loss 0.008205670863389969\n",
            "loss 0.007858489640057087\n",
            "loss 0.007520465645939112\n",
            "loss 0.007171472068876028\n",
            "Epoch: 180 | Loss: 0.007171472068876028 | Test loss: 0.015711510553956032\n",
            "OrderedDict([('weight', tensor([0.6661])), ('bias', tensor([0.3144]))])\n",
            "loss 0.006833276245743036\n",
            "loss 0.006486266851425171\n",
            "loss 0.006144268903881311\n",
            "loss 0.005801063030958176\n",
            "loss 0.00545525923371315\n",
            "loss 0.0051158638671040535\n",
            "loss 0.0047668637707829475\n",
            "loss 0.004430046770721674\n",
            "loss 0.004081658087670803\n",
            "loss 0.003741039428859949\n",
            "Epoch: 190 | Loss: 0.003741039428859949 | Test loss: 0.008125847205519676\n",
            "OrderedDict([('weight', tensor([0.6831])), ('bias', tensor([0.3069]))])\n",
            "loss 0.003396458923816681\n",
            "loss 0.0030520304571837187\n",
            "loss 0.002711259527131915\n",
            "loss 0.0023630172945559025\n",
            "loss 0.0020317495800554752\n",
            "loss 0.00172170321457088\n",
            "loss 0.0017794370651245117\n",
            "loss 0.004964242689311504\n",
            "loss 0.006556747946888208\n"
          ]
        }
      ]
    },
    {
      "cell_type": "code",
      "source": [
        "epoch_count, loss_values, test_loss_values"
      ],
      "metadata": {
        "colab": {
          "base_uri": "https://localhost:8080/"
        },
        "id": "TCad6kADHR1k",
        "outputId": "8b339070-e299-4b20-e157-c5c4a152e1ee"
      },
      "execution_count": 21,
      "outputs": [
        {
          "output_type": "execute_result",
          "data": {
            "text/plain": [
              "([0,\n",
              "  10,\n",
              "  20,\n",
              "  30,\n",
              "  40,\n",
              "  50,\n",
              "  60,\n",
              "  70,\n",
              "  80,\n",
              "  90,\n",
              "  100,\n",
              "  110,\n",
              "  120,\n",
              "  130,\n",
              "  140,\n",
              "  150,\n",
              "  160,\n",
              "  170,\n",
              "  180,\n",
              "  190],\n",
              " [tensor(0.0817, grad_fn=<MeanBackward0>),\n",
              "  tensor(0.0681, grad_fn=<MeanBackward0>),\n",
              "  tensor(0.0626, grad_fn=<MeanBackward0>),\n",
              "  tensor(0.0588, grad_fn=<MeanBackward0>),\n",
              "  tensor(0.0553, grad_fn=<MeanBackward0>),\n",
              "  tensor(0.0518, grad_fn=<MeanBackward0>),\n",
              "  tensor(0.0484, grad_fn=<MeanBackward0>),\n",
              "  tensor(0.0449, grad_fn=<MeanBackward0>),\n",
              "  tensor(0.0415, grad_fn=<MeanBackward0>),\n",
              "  tensor(0.0381, grad_fn=<MeanBackward0>),\n",
              "  tensor(0.0346, grad_fn=<MeanBackward0>),\n",
              "  tensor(0.0312, grad_fn=<MeanBackward0>),\n",
              "  tensor(0.0278, grad_fn=<MeanBackward0>),\n",
              "  tensor(0.0243, grad_fn=<MeanBackward0>),\n",
              "  tensor(0.0209, grad_fn=<MeanBackward0>),\n",
              "  tensor(0.0175, grad_fn=<MeanBackward0>),\n",
              "  tensor(0.0140, grad_fn=<MeanBackward0>),\n",
              "  tensor(0.0106, grad_fn=<MeanBackward0>),\n",
              "  tensor(0.0072, grad_fn=<MeanBackward0>),\n",
              "  tensor(0.0037, grad_fn=<MeanBackward0>)],\n",
              " [tensor(0.2266),\n",
              "  tensor(0.1807),\n",
              "  tensor(0.1563),\n",
              "  tensor(0.1419),\n",
              "  tensor(0.1308),\n",
              "  tensor(0.1205),\n",
              "  tensor(0.1122),\n",
              "  tensor(0.1046),\n",
              "  tensor(0.0964),\n",
              "  tensor(0.0881),\n",
              "  tensor(0.0805),\n",
              "  tensor(0.0722),\n",
              "  tensor(0.0640),\n",
              "  tensor(0.0564),\n",
              "  tensor(0.0481),\n",
              "  tensor(0.0398),\n",
              "  tensor(0.0323),\n",
              "  tensor(0.0240),\n",
              "  tensor(0.0157),\n",
              "  tensor(0.0081)])"
            ]
          },
          "metadata": {},
          "execution_count": 21
        }
      ]
    },
    {
      "cell_type": "code",
      "source": [
        "import numpy as np\n",
        "plt.plot(epoch_count, np.array(torch.tensor(loss_values).numpy()), label = \"Train Loss\")\n",
        "plt.plot(epoch_count, np.array(torch.tensor(test_loss_values).numpy()), label = \"Test Loss\")\n",
        "plt.title(\"Training and Test Loss Curves\")\n",
        "plt.ylabel(\"Loss\")\n",
        "plt.xlabel(\"Epochs\")\n",
        "plt.legend()"
      ],
      "metadata": {
        "colab": {
          "base_uri": "https://localhost:8080/",
          "height": 489
        },
        "id": "JXaOKF6vHZyz",
        "outputId": "dfb5d879-da7a-4715-a5e5-9a0fd432c13f"
      },
      "execution_count": 22,
      "outputs": [
        {
          "output_type": "execute_result",
          "data": {
            "text/plain": [
              "<matplotlib.legend.Legend at 0x7b3c3c520640>"
            ]
          },
          "metadata": {},
          "execution_count": 22
        },
        {
          "output_type": "display_data",
          "data": {
            "text/plain": [
              "<Figure size 640x480 with 1 Axes>"
            ],
            "image/png": "[encoded data removed]"
          },
          "metadata": {}
        }
      ]
    },
    {
      "cell_type": "code",
      "source": [
        "print(np.array(torch.tensor(loss_values).numpy()))\n",
        "print(loss_values)\n",
        "print(np.array(torch.tensor(test_loss_values).numpy()))\n",
        "print(test_loss_values)"
      ],
      "metadata": {
        "colab": {
          "base_uri": "https://localhost:8080/"
        },
        "id": "nInG7Q9CIZ91",
        "outputId": "0ba8e9e6-e69e-47d4-bfc4-6ce2ebab5c81"
      },
      "execution_count": 23,
      "outputs": [
        {
          "output_type": "stream",
          "name": "stdout",
          "text": [
            "[0.08169572 0.06808149 0.06258393 0.05879194 0.05530194 0.05182225\n",
            " 0.04838594 0.04494876 0.04152032 0.03808232 0.03464684 0.03121751\n",
            " 0.02777871 0.0243449  0.0209139  0.01747509 0.01404297 0.01061027\n",
            " 0.00717147 0.00374104]\n",
            "[tensor(0.0817, grad_fn=<MeanBackward0>), tensor(0.0681, grad_fn=<MeanBackward0>), tensor(0.0626, grad_fn=<MeanBackward0>), tensor(0.0588, grad_fn=<MeanBackward0>), tensor(0.0553, grad_fn=<MeanBackward0>), tensor(0.0518, grad_fn=<MeanBackward0>), tensor(0.0484, grad_fn=<MeanBackward0>), tensor(0.0449, grad_fn=<MeanBackward0>), tensor(0.0415, grad_fn=<MeanBackward0>), tensor(0.0381, grad_fn=<MeanBackward0>), tensor(0.0346, grad_fn=<MeanBackward0>), tensor(0.0312, grad_fn=<MeanBackward0>), tensor(0.0278, grad_fn=<MeanBackward0>), tensor(0.0243, grad_fn=<MeanBackward0>), tensor(0.0209, grad_fn=<MeanBackward0>), tensor(0.0175, grad_fn=<MeanBackward0>), tensor(0.0140, grad_fn=<MeanBackward0>), tensor(0.0106, grad_fn=<MeanBackward0>), tensor(0.0072, grad_fn=<MeanBackward0>), tensor(0.0037, grad_fn=<MeanBackward0>)]\n",
            "[0.22662055 0.18073454 0.15627031 0.14186026 0.13084018 0.120507\n",
            " 0.11223447 0.10464881 0.09637626 0.08810374 0.08051808 0.07224554\n",
            " 0.063973   0.05638734 0.0481148  0.03984226 0.03225659 0.02398406\n",
            " 0.01571151 0.00812585]\n",
            "[tensor(0.2266), tensor(0.1807), tensor(0.1563), tensor(0.1419), tensor(0.1308), tensor(0.1205), tensor(0.1122), tensor(0.1046), tensor(0.0964), tensor(0.0881), tensor(0.0805), tensor(0.0722), tensor(0.0640), tensor(0.0564), tensor(0.0481), tensor(0.0398), tensor(0.0323), tensor(0.0240), tensor(0.0157), tensor(0.0081)]\n"
          ]
        }
      ]
    },
    {
      "cell_type": "code",
      "source": [
        "with torch.inference_mode():\n",
        "  y_preds_new = model_0(X_test)"
      ],
      "metadata": {
        "id": "EBMW2VQSGvqC"
      },
      "execution_count": 24,
      "outputs": []
    },
    {
      "cell_type": "code",
      "source": [
        "model_0.state_dict()"
      ],
      "metadata": {
        "colab": {
          "base_uri": "https://localhost:8080/"
        },
        "id": "qZwkUylThWPu",
        "outputId": "f8c50eb9-4839-4933-afab-53de7303f858"
      },
      "execution_count": 25,
      "outputs": [
        {
          "output_type": "execute_result",
          "data": {
            "text/plain": [
              "OrderedDict([('weight', tensor([0.6962])), ('bias', tensor([0.3064]))])"
            ]
          },
          "metadata": {},
          "execution_count": 25
        }
      ]
    },
    {
      "cell_type": "code",
      "source": [
        "weight, bias\n"
      ],
      "metadata": {
        "colab": {
          "base_uri": "https://localhost:8080/"
        },
        "id": "77qm86vChcui",
        "outputId": "da0522de-91c3-4a1d-ef1c-34c0df9bccdd"
      },
      "execution_count": 26,
      "outputs": [
        {
          "output_type": "execute_result",
          "data": {
            "text/plain": [
              "(0.7, 0.3)"
            ]
          },
          "metadata": {},
          "execution_count": 26
        }
      ]
    },
    {
      "cell_type": "code",
      "source": [
        "plot_predictions(predictions=y_preds)"
      ],
      "metadata": {
        "colab": {
          "base_uri": "https://localhost:8080/",
          "height": 460
        },
        "id": "80QE7uaPNeHF",
        "outputId": "b81a6485-b41b-4e63-d0ea-adf7fa2d8cc0"
      },
      "execution_count": 27,
      "outputs": [
        {
          "output_type": "display_data",
          "data": {
            "text/plain": [
              "<Figure size 1000x700 with 1 Axes>"
            ],
            "image/png": "[encoded data removed]"
          },
          "metadata": {}
        }
      ]
    },
    {
      "cell_type": "code",
      "source": [
        "plot_predictions(predictions=y_preds_new)"
      ],
      "metadata": {
        "colab": {
          "base_uri": "https://localhost:8080/",
          "height": 460
        },
        "id": "CjQBa45NNoW9",
        "outputId": "95529c5e-aa0c-4ba3-bd44-ee44cda2c556"
      },
      "execution_count": 28,
      "outputs": [
        {
          "output_type": "display_data",
          "data": {
            "text/plain": [
              "<Figure size 1000x700 with 1 Axes>"
            ],
            "image/png": "[encoded data removed]"
          },
          "metadata": {}
        }
      ]
    },
    {
      "cell_type": "markdown",
      "source": [
        "###Saving a model in PyTorch\n",
        "\n",
        "Three main methods\n",
        "1. torch.save() = saves object in pickle\n",
        "2. torch.load() = loads object\n",
        "3. torch.nn.Module.load_state_dict() = load a model's save state dictionary\n",
        "https://pytorch.org/tutorials/beginner/saving_loading_models.html#saving-loading-model-for-inference"
      ],
      "metadata": {
        "id": "u_8K_5oZNqtS"
      }
    },
    {
      "cell_type": "code",
      "source": [
        "# saving model\n",
        "from pathlib import Path\n",
        "\n",
        "# 1. create models directory\n",
        "MODEL_PATH = Path(\"models\")\n",
        "MODEL_PATH.mkdir(parents=True, exist_ok=True)\n",
        "\n",
        "#create model save path\n",
        "MODEL_NAME = '01_pytorch_workflow_model_0.pth'\n",
        "MODEL_SAVE_PATH = MODEL_PATH / MODEL_NAME\n",
        "MODEL_SAVE_PATH\n",
        "\n",
        "#save the model state_dict\n",
        "print(f\"Saving model to: {MODEL_SAVE_PATH}\")\n",
        "torch.save(obj=model_0.state_dict(), f= MODEL_SAVE_PATH)"
      ],
      "metadata": {
        "colab": {
          "base_uri": "https://localhost:8080/"
        },
        "id": "P5xXqrhVLZ8s",
        "outputId": "603757e6-351b-43d6-bf3f-ef9a9a5deabf"
      },
      "execution_count": 29,
      "outputs": [
        {
          "output_type": "stream",
          "name": "stdout",
          "text": [
            "Saving model to: models/01_pytorch_workflow_model_0.pth\n"
          ]
        }
      ]
    },
    {
      "cell_type": "code",
      "source": [
        "!ls -l models"
      ],
      "metadata": {
        "colab": {
          "base_uri": "https://localhost:8080/"
        },
        "id": "3lNvzoTwL8nw",
        "outputId": "b553cd91-4da7-41c4-897e-973527b5ea19"
      },
      "execution_count": 30,
      "outputs": [
        {
          "output_type": "stream",
          "name": "stdout",
          "text": [
            "total 4\n",
            "-rw-r--r-- 1 root root 1680 Aug 14 23:49 01_pytorch_workflow_model_0.pth\n"
          ]
        }
      ]
    },
    {
      "cell_type": "code",
      "source": [
        "#loading model; must create a new instance load saved dict into. that\n",
        "print(model_0.state_dict())\n",
        "\n",
        "loaded_model_0 = LinearRegressionModel()\n",
        "\n",
        "loaded_model_0.load_state_dict(torch.load(f=MODEL_SAVE_PATH))"
      ],
      "metadata": {
        "colab": {
          "base_uri": "https://localhost:8080/"
        },
        "id": "VSNPhdMSMeBM",
        "outputId": "2e58df13-1472-4053-b822-5fbb39450bb8"
      },
      "execution_count": 31,
      "outputs": [
        {
          "output_type": "stream",
          "name": "stdout",
          "text": [
            "OrderedDict([('weight', tensor([0.6962])), ('bias', tensor([0.3064]))])\n"
          ]
        },
        {
          "output_type": "execute_result",
          "data": {
            "text/plain": [
              "<All keys matched successfully>"
            ]
          },
          "metadata": {},
          "execution_count": 31
        }
      ]
    },
    {
      "cell_type": "code",
      "source": [
        "# make predictions with loaded model\n",
        "loaded_model_0.eval()\n",
        "with torch.inference_mode():\n",
        "  loaded_model_preds = loaded_model_0(X_test)\n",
        "loaded_model_preds"
      ],
      "metadata": {
        "colab": {
          "base_uri": "https://localhost:8080/"
        },
        "id": "dTAipvvZNjkx",
        "outputId": "5c517292-a2fd-4b95-fbf0-4ca7b128eff7"
      },
      "execution_count": 32,
      "outputs": [
        {
          "output_type": "execute_result",
          "data": {
            "text/plain": [
              "tensor([[0.8634],\n",
              "        [0.8773],\n",
              "        [0.8913],\n",
              "        [0.9052],\n",
              "        [0.9191],\n",
              "        [0.9330],\n",
              "        [0.9469],\n",
              "        [0.9609],\n",
              "        [0.9748],\n",
              "        [0.9887]])"
            ]
          },
          "metadata": {},
          "execution_count": 32
        }
      ]
    },
    {
      "cell_type": "code",
      "source": [
        "model_0.eval()\n",
        "with torch.inference_mode():\n",
        "  y_preds = model_0(X_test)\n",
        "y_preds"
      ],
      "metadata": {
        "colab": {
          "base_uri": "https://localhost:8080/"
        },
        "id": "MFPGrbo2OGEP",
        "outputId": "9e06cb6b-70f3-45e6-bb4e-4835ebe3d5e0"
      },
      "execution_count": 33,
      "outputs": [
        {
          "output_type": "execute_result",
          "data": {
            "text/plain": [
              "tensor([[0.8634],\n",
              "        [0.8773],\n",
              "        [0.8913],\n",
              "        [0.9052],\n",
              "        [0.9191],\n",
              "        [0.9330],\n",
              "        [0.9469],\n",
              "        [0.9609],\n",
              "        [0.9748],\n",
              "        [0.9887]])"
            ]
          },
          "metadata": {},
          "execution_count": 33
        }
      ]
    },
    {
      "cell_type": "code",
      "source": [
        "#compare what we had\n",
        "y_preds == loaded_model_preds"
      ],
      "metadata": {
        "colab": {
          "base_uri": "https://localhost:8080/"
        },
        "id": "tj5_mOanN4Q6",
        "outputId": "cc15e659-8603-4d70-84c5-b8cc3572f381"
      },
      "execution_count": 34,
      "outputs": [
        {
          "output_type": "execute_result",
          "data": {
            "text/plain": [
              "tensor([[True],\n",
              "        [True],\n",
              "        [True],\n",
              "        [True],\n",
              "        [True],\n",
              "        [True],\n",
              "        [True],\n",
              "        [True],\n",
              "        [True],\n",
              "        [True]])"
            ]
          },
          "metadata": {},
          "execution_count": 34
        }
      ]
    },
    {
      "cell_type": "markdown",
      "source": [
        "##6 Putting it all together"
      ],
      "metadata": {
        "id": "0LbxEqZIN-Zv"
      }
    },
    {
      "cell_type": "code",
      "source": [
        "import torch\n",
        "from torch import nn\n",
        "import matplotlib.pyplot as plt\n",
        "import numpy as np\n",
        "\n",
        "# check pytorch version\n",
        "torch.__version__"
      ],
      "metadata": {
        "colab": {
          "base_uri": "https://localhost:8080/",
          "height": 35
        },
        "id": "M3dzXkImSG2L",
        "outputId": "592711b0-ea9d-4aa8-8553-dd8b4a52577b"
      },
      "execution_count": 35,
      "outputs": [
        {
          "output_type": "execute_result",
          "data": {
            "text/plain": [
              "'2.3.1+cu121'"
            ],
            "application/vnd.google.colaboratory.intrinsic+json": {
              "type": "string"
            }
          },
          "metadata": {},
          "execution_count": 35
        }
      ]
    },
    {
      "cell_type": "code",
      "source": [
        "#device agnostic code (code for gpu)\n",
        "if torch.cuda.is_available():\n",
        "  device =\"cuda\"\n",
        "else:\n",
        "  device = \"cpu\"\n",
        "print(f\"Using device: {device}\")"
      ],
      "metadata": {
        "colab": {
          "base_uri": "https://localhost:8080/"
        },
        "id": "ip4XLEB0Sao5",
        "outputId": "4b3a9f29-2a19-49c5-8e55-c23d25fa5c9e"
      },
      "execution_count": 36,
      "outputs": [
        {
          "output_type": "stream",
          "name": "stdout",
          "text": [
            "Using device: cuda\n"
          ]
        }
      ]
    },
    {
      "cell_type": "code",
      "source": [
        "#check device\n",
        "!nvidia-smi\n",
        "\n"
      ],
      "metadata": {
        "colab": {
          "base_uri": "https://localhost:8080/"
        },
        "id": "KyKD5LxQROoq",
        "outputId": "f99ab914-9566-4ba1-8259-c72cb4d09d92"
      },
      "execution_count": 39,
      "outputs": [
        {
          "output_type": "stream",
          "name": "stdout",
          "text": [
            "Wed Aug 14 23:49:59 2024       \n",
            "+---------------------------------------------------------------------------------------+\n",
            "| NVIDIA-SMI 535.104.05             Driver Version: 535.104.05   CUDA Version: 12.2     |\n",
            "|-----------------------------------------+----------------------+----------------------+\n",
            "| GPU  Name                 Persistence-M | Bus-Id        Disp.A | Volatile Uncorr. ECC |\n",
            "| Fan  Temp   Perf          Pwr:Usage/Cap |         Memory-Usage | GPU-Util  Compute M. |\n",
            "|                                         |                      |               MIG M. |\n",
            "|=========================================+======================+======================|\n",
            "|   0  Tesla T4                       Off | 00000000:00:04.0 Off |                    0 |\n",
            "| N/A   43C    P8               9W /  70W |      3MiB / 15360MiB |      0%      Default |\n",
            "|                                         |                      |                  N/A |\n",
            "+-----------------------------------------+----------------------+----------------------+\n",
            "                                                                                         \n",
            "+---------------------------------------------------------------------------------------+\n",
            "| Processes:                                                                            |\n",
            "|  GPU   GI   CI        PID   Type   Process name                            GPU Memory |\n",
            "|        ID   ID                                                             Usage      |\n",
            "|=======================================================================================|\n",
            "|  No running processes found                                                           |\n",
            "+---------------------------------------------------------------------------------------+\n"
          ]
        }
      ]
    },
    {
      "cell_type": "markdown",
      "source": [
        "###6.1 Data"
      ],
      "metadata": {
        "id": "9Ey349PNTC-L"
      }
    },
    {
      "cell_type": "code",
      "source": [
        "#create some data using the linear regression formula: y = weight * x + bias\n",
        "weight = 0.7\n",
        "bias = 0.3\n",
        "\n",
        "# Create range value\n",
        "start = 0\n",
        "end = 1\n",
        "step = 0.02\n",
        "\n",
        "#create X and y\n",
        "X = torch.arange(start,end,step).unsqueeze(dim=1) #need unsqueeze of you get errors\n",
        "y = weight * X + bias\n",
        "X[:10], y[:10]"
      ],
      "metadata": {
        "colab": {
          "base_uri": "https://localhost:8080/"
        },
        "id": "jbRhWo6NTLwd",
        "outputId": "b8ec4a7c-d785-48e8-e3e8-b273464f53ed"
      },
      "execution_count": 41,
      "outputs": [
        {
          "output_type": "execute_result",
          "data": {
            "text/plain": [
              "(tensor([[0.0000],\n",
              "         [0.0200],\n",
              "         [0.0400],\n",
              "         [0.0600],\n",
              "         [0.0800],\n",
              "         [0.1000],\n",
              "         [0.1200],\n",
              "         [0.1400],\n",
              "         [0.1600],\n",
              "         [0.1800]]),\n",
              " tensor([[0.3000],\n",
              "         [0.3140],\n",
              "         [0.3280],\n",
              "         [0.3420],\n",
              "         [0.3560],\n",
              "         [0.3700],\n",
              "         [0.3840],\n",
              "         [0.3980],\n",
              "         [0.4120],\n",
              "         [0.4260]]))"
            ]
          },
          "metadata": {},
          "execution_count": 41
        }
      ]
    },
    {
      "cell_type": "code",
      "source": [
        "#split data\n",
        "training_split = int(0.8 * len(X))\n",
        "X_train = X[:training_split]\n",
        "X_test = X[training_split:]\n",
        "y_train = y[:training_split]\n",
        "y_test = y[training_split:]\n"
      ],
      "metadata": {
        "colab": {
          "base_uri": "https://localhost:8080/"
        },
        "id": "PDploDfTT3se",
        "outputId": "300cb738-c7c0-4b10-980d-78f07c199f26"
      },
      "execution_count": 42,
      "outputs": [
        {
          "output_type": "execute_result",
          "data": {
            "text/plain": [
              "40"
            ]
          },
          "metadata": {},
          "execution_count": 42
        }
      ]
    },
    {
      "cell_type": "code",
      "source": [
        "#visualizing data -> matplot\n",
        "def plot_predictions(train_data = X_train,\n",
        "                     train_labels = Y_train,\n",
        "                     test_data = X_test,\n",
        "                     test_labels = Y_test,\n",
        "                     predictions = None):\n",
        "  #plots training data, test data, and compares predictions\n",
        "  plt.figure(figsize=(10,7))\n",
        "  #training data in blue\n",
        "  plt.scatter(train_data, train_labels, c=\"b\", s=4, label=\"Training Data\")\n",
        "  plt.scatter(test_data, test_labels, c=\"g\", s=4, label=\"Testing Data\")\n",
        "\n",
        "  #Are there predictions\n",
        "  if predictions is not None:\n",
        "    plt.scatter(test_data, predictions, c=\"r\", s=4, label=\"Predictions\")\n",
        "  plt.legend(prop={\"size\": 14})\n",
        "#plot the data with plot_predictions() loaded\n",
        "plot_predictions(X_train, y_train, X_test, y_test)"
      ],
      "metadata": {
        "colab": {
          "base_uri": "https://localhost:8080/",
          "height": 460
        },
        "id": "--AFIhDlXr2x",
        "outputId": "c7e94117-5bc4-4d0f-c470-7e19ed48f35c"
      },
      "execution_count": 43,
      "outputs": [
        {
          "output_type": "display_data",
          "data": {
            "text/plain": [
              "<Figure size 1000x700 with 1 Axes>"
            ],
            "image/png": "[encoded data removed]"
          },
          "metadata": {}
        }
      ]
    },
    {
      "cell_type": "markdown",
      "source": [
        "##6.2 Building the pytorch linear model\n"
      ],
      "metadata": {
        "id": "w5AOM5TzYdZy"
      }
    },
    {
      "cell_type": "code",
      "source": [
        "#create a linear model by subclassing nn.model\n",
        "class LinearRegressionModelV2(nn.Module):\n",
        "  def __init__(self):\n",
        "    super().__init__()\n",
        "    # Use nn.Linear() for creating the model parameters\n",
        "    #shorthand from previous weights and bias\n",
        "    self.linear_layer = nn.Linear(in_features=1,\n",
        "                                  out_features=1)\n",
        "  def forward(self, x: torch.Tensor) -> torch.Tensor:\n",
        "    return self.linear_layer(x)\n",
        "\n",
        "torch.manual_seed(42)\n",
        "model_1 = LinearRegressionModelV2()\n",
        "model_1, model_1.state_dict()"
      ],
      "metadata": {
        "colab": {
          "base_uri": "https://localhost:8080/"
        },
        "id": "b8mKQrzAYpCx",
        "outputId": "21631e2f-e7dd-4554-e45a-91fb03ec00d2"
      },
      "execution_count": 44,
      "outputs": [
        {
          "output_type": "execute_result",
          "data": {
            "text/plain": [
              "(LinearRegressionModelV2(\n",
              "   (linear_layer): Linear(in_features=1, out_features=1, bias=True)\n",
              " ),\n",
              " OrderedDict([('linear_layer.weight', tensor([[0.7645]])),\n",
              "              ('linear_layer.bias', tensor([0.8300]))]))"
            ]
          },
          "metadata": {},
          "execution_count": 44
        }
      ]
    },
    {
      "cell_type": "code",
      "source": [
        "#check model\n",
        "next(model_1.parameters()).device\n",
        "#set the model to use the target device\n",
        "model_1.to(device)\n",
        "next(model_1.parameters()).device\n"
      ],
      "metadata": {
        "colab": {
          "base_uri": "https://localhost:8080/"
        },
        "id": "ZvX5Bul6ZuMd",
        "outputId": "9e534165-12f5-489e-d093-c573fedf3c0d"
      },
      "execution_count": 47,
      "outputs": [
        {
          "output_type": "execute_result",
          "data": {
            "text/plain": [
              "device(type='cuda', index=0)"
            ]
          },
          "metadata": {},
          "execution_count": 47
        }
      ]
    },
    {
      "cell_type": "markdown",
      "source": [
        "###6.3 Training"
      ],
      "metadata": {
        "id": "_r2E9oxZc0tU"
      }
    },
    {
      "cell_type": "code",
      "source": [
        "#setting up loss function\n",
        "loss_fn = nn.L1Loss()\n",
        "#setting up optimizer\n",
        "optimizer = torch.optim.SGD(params = model_1.parameters(), lr = 0.01)\n"
      ],
      "metadata": {
        "id": "vWDT-HXLc3Pl"
      },
      "execution_count": 48,
      "outputs": []
    },
    {
      "cell_type": "code",
      "source": [
        "#training loop\n",
        "torch.manual_seed(42)\n",
        "\n",
        "epochs = 200\n",
        "\n",
        "#put data on GPU\n",
        "X_train = X_train.to(device)\n",
        "y_train = y_train.to(device)\n",
        "X_test = X_test.to(device)\n",
        "y_test = y_test.to(device)\n",
        "\n",
        "for epoch in range(epochs):\n",
        "  model_1.train()\n",
        "\n",
        "  #forward pass\n",
        "  y_pred = model_1(X_train)\n",
        "\n",
        "  #calculate loss\n",
        "  loss = loss_fn(y_pred, y_train)\n",
        "\n",
        "  #set optimizer to 0\n",
        "  optimizer.zero_grad()\n",
        "\n",
        "  #backpropagation\n",
        "  loss.backward()\n",
        "\n",
        "  #optimzie\n",
        "  optimizer.step()\n",
        "\n",
        "  #TESTING\n",
        "  model_1.eval()\n",
        "  with torch.inference_mode():\n",
        "    test_pred = model_1(X_test)\n",
        "\n",
        "    test_loss = loss_fn(test_pred, y_test)\n",
        "  #print out whats happening\n",
        "  if epoch % 10 == 0:\n",
        "    print(f\"Epoch: {epoch} | Loss: {loss} | Test loss: {test_loss}\")"
      ],
      "metadata": {
        "colab": {
          "base_uri": "https://localhost:8080/"
        },
        "id": "ih0gpRtFdcfC",
        "outputId": "9d75c627-f491-442b-9aac-41ca5859402a"
      },
      "execution_count": 51,
      "outputs": [
        {
          "output_type": "stream",
          "name": "stdout",
          "text": [
            "Epoch: 0 | Loss: 0.5551779866218567 | Test loss: 0.5739762187004089\n",
            "Epoch: 10 | Loss: 0.439968079328537 | Test loss: 0.4392664134502411\n",
            "Epoch: 20 | Loss: 0.3247582018375397 | Test loss: 0.30455657839775085\n",
            "Epoch: 30 | Loss: 0.20954833924770355 | Test loss: 0.16984669864177704\n",
            "Epoch: 40 | Loss: 0.09433845430612564 | Test loss: 0.03513690456748009\n",
            "Epoch: 50 | Loss: 0.023886388167738914 | Test loss: 0.04784907028079033\n",
            "Epoch: 60 | Loss: 0.019956795498728752 | Test loss: 0.045803118497133255\n",
            "Epoch: 70 | Loss: 0.016517987474799156 | Test loss: 0.037530567497015\n",
            "Epoch: 80 | Loss: 0.013089174404740334 | Test loss: 0.02994490973651409\n",
            "Epoch: 90 | Loss: 0.009653178043663502 | Test loss: 0.02167237363755703\n",
            "Epoch: 100 | Loss: 0.006215683650225401 | Test loss: 0.014086711220443249\n",
            "Epoch: 110 | Loss: 0.00278724217787385 | Test loss: 0.005814164876937866\n",
            "Epoch: 120 | Loss: 0.0012645035749301314 | Test loss: 0.013801801018416882\n",
            "Epoch: 130 | Loss: 0.0012645035749301314 | Test loss: 0.013801801018416882\n",
            "Epoch: 140 | Loss: 0.0012645035749301314 | Test loss: 0.013801801018416882\n",
            "Epoch: 150 | Loss: 0.0012645035749301314 | Test loss: 0.013801801018416882\n",
            "Epoch: 160 | Loss: 0.0012645035749301314 | Test loss: 0.013801801018416882\n",
            "Epoch: 170 | Loss: 0.0012645035749301314 | Test loss: 0.013801801018416882\n",
            "Epoch: 180 | Loss: 0.0012645035749301314 | Test loss: 0.013801801018416882\n",
            "Epoch: 190 | Loss: 0.0012645035749301314 | Test loss: 0.013801801018416882\n"
          ]
        }
      ]
    },
    {
      "cell_type": "code",
      "source": [
        "model_1.state_dict()"
      ],
      "metadata": {
        "colab": {
          "base_uri": "https://localhost:8080/"
        },
        "id": "taCjo4aCesXI",
        "outputId": "dd0a4309-c222-4655-8634-aa80ffe12230"
      },
      "execution_count": 52,
      "outputs": [
        {
          "output_type": "execute_result",
          "data": {
            "text/plain": [
              "OrderedDict([('linear_layer.weight', tensor([[0.6968]], device='cuda:0')),\n",
              "             ('linear_layer.bias', tensor([0.3025], device='cuda:0'))])"
            ]
          },
          "metadata": {},
          "execution_count": 52
        }
      ]
    },
    {
      "cell_type": "code",
      "source": [
        "weight,bias"
      ],
      "metadata": {
        "colab": {
          "base_uri": "https://localhost:8080/"
        },
        "id": "0QK2xSWQe5W6",
        "outputId": "9bd8b685-9302-4ef3-e51a-092edb8b336e"
      },
      "execution_count": 53,
      "outputs": [
        {
          "output_type": "execute_result",
          "data": {
            "text/plain": [
              "(0.7, 0.3)"
            ]
          },
          "metadata": {},
          "execution_count": 53
        }
      ]
    },
    {
      "cell_type": "markdown",
      "source": [
        "###6.4 making and evaluating predictions"
      ],
      "metadata": {
        "id": "kWRPZq-we7IS"
      }
    },
    {
      "cell_type": "code",
      "source": [
        "#turn model into eval mode\n",
        "model_1.eval()\n",
        "\n",
        "#make predictions on test data\n",
        "with torch.inference_mode():\n",
        "  y_preds = model_1(X_test)\n",
        "y_preds"
      ],
      "metadata": {
        "colab": {
          "base_uri": "https://localhost:8080/"
        },
        "id": "AbnOON-XfukO",
        "outputId": "516363fc-8749-42a9-c273-d6298e041e0b"
      },
      "execution_count": 54,
      "outputs": [
        {
          "output_type": "execute_result",
          "data": {
            "text/plain": [
              "tensor([[0.8600],\n",
              "        [0.8739],\n",
              "        [0.8878],\n",
              "        [0.9018],\n",
              "        [0.9157],\n",
              "        [0.9296],\n",
              "        [0.9436],\n",
              "        [0.9575],\n",
              "        [0.9714],\n",
              "        [0.9854]], device='cuda:0')"
            ]
          },
          "metadata": {},
          "execution_count": 54
        }
      ]
    },
    {
      "cell_type": "code",
      "source": [
        "#plot predictions\n",
        "plot_predictions(predictions=y_preds.cpu())"
      ],
      "metadata": {
        "colab": {
          "base_uri": "https://localhost:8080/",
          "height": 460
        },
        "id": "pt13FSBEf85J",
        "outputId": "fccbad62-934f-4716-df8d-572b077a4851"
      },
      "execution_count": 57,
      "outputs": [
        {
          "output_type": "display_data",
          "data": {
            "text/plain": [
              "<Figure size 1000x700 with 1 Axes>"
            ],
            "image/png": "[encoded data removed]"
          },
          "metadata": {}
        }
      ]
    },
    {
      "cell_type": "markdown",
      "source": [
        "##6.5 Saving and Loading model"
      ],
      "metadata": {
        "id": "3oPcz-jWgDRa"
      }
    },
    {
      "cell_type": "code",
      "source": [
        "from pathlib import Path\n",
        "\n",
        "#create models directory\n",
        "MODEL_PATH = Path(\"models\")\n",
        "MODEL_PATH.mkdir(parents = True, exist_ok = True)\n",
        "\n",
        "#create model save path\n",
        "MODEL_NAME = '01_pytorch_workflow_model_1.pth'\n",
        "MODEL_SAVE_PATH = MODEL_PATH / MODEL_NAME\n",
        "MODEL_SAVE_PATH\n",
        "\n",
        "#save state dict\n",
        "print(f\"Saving model to: {MODEL_SAVE_PATH}\")\n",
        "torch.save(obj=model_1.state_dict(), f= MODEL_SAVE_PATH)\n",
        "\n"
      ],
      "metadata": {
        "colab": {
          "base_uri": "https://localhost:8080/"
        },
        "id": "BoAgVd9Jgqak",
        "outputId": "0f7fda13-e787-4964-8665-96eb19321e32"
      },
      "execution_count": 61,
      "outputs": [
        {
          "output_type": "stream",
          "name": "stdout",
          "text": [
            "Saving model to: models/01_pytorch_workflow_model_1.pth\n"
          ]
        }
      ]
    },
    {
      "cell_type": "code",
      "source": [
        "#load model\n",
        "#create instance\n",
        "loaded_model_1 = LinearRegressionModelV2()\n",
        "\n",
        "#load the saved model\n",
        "loaded_model_1.load_state_dict(torch.load(MODEL_SAVE_PATH))\n",
        "\n",
        "#put loaded model to device\n",
        "loaded_model_1.to(device)"
      ],
      "metadata": {
        "colab": {
          "base_uri": "https://localhost:8080/"
        },
        "id": "DME7k6W6hoR1",
        "outputId": "42da1e81-e71f-443c-883f-029d6bfcb861"
      },
      "execution_count": 62,
      "outputs": [
        {
          "output_type": "execute_result",
          "data": {
            "text/plain": [
              "LinearRegressionModelV2(\n",
              "  (linear_layer): Linear(in_features=1, out_features=1, bias=True)\n",
              ")"
            ]
          },
          "metadata": {},
          "execution_count": 62
        }
      ]
    },
    {
      "cell_type": "code",
      "source": [
        "next(loaded_model_1.parameters()).device"
      ],
      "metadata": {
        "colab": {
          "base_uri": "https://localhost:8080/"
        },
        "id": "x_WWjKWYir5g",
        "outputId": "ec742b50-305a-4c9a-92a0-3bbfce3d81db"
      },
      "execution_count": 63,
      "outputs": [
        {
          "output_type": "execute_result",
          "data": {
            "text/plain": [
              "device(type='cuda', index=0)"
            ]
          },
          "metadata": {},
          "execution_count": 63
        }
      ]
    },
    {
      "cell_type": "code",
      "source": [
        "loaded_model_1.state_dict()"
      ],
      "metadata": {
        "colab": {
          "base_uri": "https://localhost:8080/"
        },
        "id": "iRcnnZQ8iwmC",
        "outputId": "fd6b6ee4-0d93-4be8-c229-da3474b77ebf"
      },
      "execution_count": 64,
      "outputs": [
        {
          "output_type": "execute_result",
          "data": {
            "text/plain": [
              "OrderedDict([('linear_layer.weight', tensor([[0.6968]], device='cuda:0')),\n",
              "             ('linear_layer.bias', tensor([0.3025], device='cuda:0'))])"
            ]
          },
          "metadata": {},
          "execution_count": 64
        }
      ]
    },
    {
      "cell_type": "code",
      "source": [
        "#evalueate loaded model\n",
        "loaded_model_1.eval()\n",
        "with torch.inference_mode():\n",
        "  loaded_model_1_preds = loaded_model_1(X_test)\n",
        "y_preds == loaded_model_1_preds"
      ],
      "metadata": {
        "colab": {
          "base_uri": "https://localhost:8080/"
        },
        "id": "6hQnLR1OizIt",
        "outputId": "ad8b0380-98fb-49c5-acf6-9a2b56374198"
      },
      "execution_count": 66,
      "outputs": [
        {
          "output_type": "execute_result",
          "data": {
            "text/plain": [
              "tensor([[True],\n",
              "        [True],\n",
              "        [True],\n",
              "        [True],\n",
              "        [True],\n",
              "        [True],\n",
              "        [True],\n",
              "        [True],\n",
              "        [True],\n",
              "        [True]], device='cuda:0')"
            ]
          },
          "metadata": {},
          "execution_count": 66
        }
      ]
    },
    {
      "cell_type": "code",
      "source": [],
      "metadata": {
        "id": "OVJxQZlzjFF9"
      },
      "execution_count": null,
      "outputs": []
    }
  ]
}