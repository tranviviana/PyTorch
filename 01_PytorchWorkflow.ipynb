{
  "nbformat": 4,
  "nbformat_minor": 0,
  "metadata": {
    "colab": {
      "provenance": [],
      "authorship_tag": "ABX9TyPhGr8TFkAlBMqqQmsLjtiB",
      "include_colab_link": true
    },
    "kernelspec": {
      "name": "python3",
      "display_name": "Python 3"
    },
    "language_info": {
      "name": "python"
    }
  },
  "cells": [
    {
      "cell_type": "markdown",
      "metadata": {
        "id": "view-in-github",
        "colab_type": "text"
      },
      "source": [
        "<a href=\"https://colab.research.google.com/github/tranviviana/PyTorch/blob/main/01_PytorchWorkflow.ipynb\" target=\"_parent\"><img src=\"https://colab.research.google.com/assets/colab-badge.svg\" alt=\"Open In Colab\"/></a>"
      ]
    },
    {
      "cell_type": "markdown",
      "source": [
        "1. get data ready (convert to tensors)\n",
        "2. Build or pick a pretrained model\n",
        "\n",
        "*   Pick a loss function and optimizer\n",
        "*   Build a training loop\n",
        "3. Fit the model to the data and make a prediction\n",
        "4. Evaluate the model\n",
        "5. Improve through experimentation\n",
        "6. Save and reload your trained model"
      ],
      "metadata": {
        "id": "B5GHralERMlI"
      }
    },
    {
      "cell_type": "markdown",
      "source": [
        "Exploring end to end workflow\n"
      ],
      "metadata": {
        "id": "pLEjq848R15y"
      }
    },
    {
      "cell_type": "code",
      "source": [
        "what_were_covering = {1: \"data (prepare and load)\",\n",
        "                      2: \"build model\",\n",
        "                      3: \"fitting the model to data (training)\",\n",
        "                      4: \"making predictions and evaluating a model (inference)\",\n",
        "                      5: \"saving and loading a model\",\n",
        "                      6: \"putting it all together\"\n",
        "}\n",
        "what_were_covering"
      ],
      "metadata": {
        "colab": {
          "base_uri": "https://localhost:8080/"
        },
        "id": "nB9w1O76a3_9",
        "outputId": "d4f27e37-9fc6-4b14-e043-bf07be609c0f"
      },
      "execution_count": 1,
      "outputs": [
        {
          "output_type": "execute_result",
          "data": {
            "text/plain": [
              "{1: 'data (prepare and load)',\n",
              " 2: 'build model',\n",
              " 3: 'fitting the model to data (training)',\n",
              " 4: 'making predictions and evaluating a model (inference)',\n",
              " 5: 'saving and loading a model',\n",
              " 6: 'putting it all together'}"
            ]
          },
          "metadata": {},
          "execution_count": 1
        }
      ]
    },
    {
      "cell_type": "code",
      "source": [
        "import torch\n",
        "from torch import nn ##nn contains all of pytorch's building blocks for neural networks\n",
        "import matplotlib.pyplot as plt\n",
        "\n",
        "torch.__version__"
      ],
      "metadata": {
        "colab": {
          "base_uri": "https://localhost:8080/",
          "height": 35
        },
        "id": "pT5uhAA5bvZ7",
        "outputId": "95b2e606-6075-4ca7-9388-517a556918b0"
      },
      "execution_count": 2,
      "outputs": [
        {
          "output_type": "execute_result",
          "data": {
            "text/plain": [
              "'2.3.1+cu121'"
            ],
            "application/vnd.google.colaboratory.intrinsic+json": {
              "type": "string"
            }
          },
          "metadata": {},
          "execution_count": 2
        }
      ]
    },
    {
      "cell_type": "markdown",
      "source": [
        "##1. data: preparing and loading\n",
        "\n",
        "could be anything\n",
        "\n",
        "\n",
        "*   excel\n",
        "*   images\n",
        "*   Videos/audio/text\n",
        "*   DNA\n",
        "\n",
        "\n",
        "ML is a game of two parts:\n",
        "1. get data into numerical representation\n",
        "2. Build a model to learn patters about it\n",
        "\n",
        "Using a linear regression formula to make a straight line with known **parameters**\n"
      ],
      "metadata": {
        "id": "kOHwegudb4SN"
      }
    },
    {
      "cell_type": "code",
      "source": [
        "#create *known* parameters\n",
        "weight = 0.7 #slope\n",
        "bias = 0.3 #intercept\n",
        "\n",
        "#create\n",
        "start = 0\n",
        "end = 1\n",
        "step = 0.02\n",
        "X = torch.arange(start, end, step).unsqueeze(dim =1)\n",
        "Z = X.squeeze(dim=1)\n",
        "Y = weight * X + bias\n",
        "\n",
        "X[:10], Y[:10], Z[:10]"
      ],
      "metadata": {
        "colab": {
          "base_uri": "https://localhost:8080/"
        },
        "id": "C6WyRWm-cLwA",
        "outputId": "4ee44536-894f-4dfa-f4e2-0701debbbf51"
      },
      "execution_count": 3,
      "outputs": [
        {
          "output_type": "execute_result",
          "data": {
            "text/plain": [
              "(tensor([[0.0000],\n",
              "         [0.0200],\n",
              "         [0.0400],\n",
              "         [0.0600],\n",
              "         [0.0800],\n",
              "         [0.1000],\n",
              "         [0.1200],\n",
              "         [0.1400],\n",
              "         [0.1600],\n",
              "         [0.1800]]),\n",
              " tensor([[0.3000],\n",
              "         [0.3140],\n",
              "         [0.3280],\n",
              "         [0.3420],\n",
              "         [0.3560],\n",
              "         [0.3700],\n",
              "         [0.3840],\n",
              "         [0.3980],\n",
              "         [0.4120],\n",
              "         [0.4260]]),\n",
              " tensor([0.0000, 0.0200, 0.0400, 0.0600, 0.0800, 0.1000, 0.1200, 0.1400, 0.1600,\n",
              "         0.1800]))"
            ]
          },
          "metadata": {},
          "execution_count": 3
        }
      ]
    },
    {
      "cell_type": "code",
      "source": [
        "len(X), len(Y)"
      ],
      "metadata": {
        "colab": {
          "base_uri": "https://localhost:8080/"
        },
        "id": "YcfquXy4d_wR",
        "outputId": "02f724a2-091d-4dad-d8d3-00bed413d656"
      },
      "execution_count": 4,
      "outputs": [
        {
          "output_type": "execute_result",
          "data": {
            "text/plain": [
              "(50, 50)"
            ]
          },
          "metadata": {},
          "execution_count": 4
        }
      ]
    },
    {
      "cell_type": "code",
      "source": [
        "#have our system figure out our formula\n",
        "#splitting data into training and testing data --> important !\n",
        "#training -> set the model learns patterns from ; validation -> tuning model ; test -> ready for new stuff\n"
      ],
      "metadata": {
        "id": "MUTkCPOUeH6H"
      },
      "execution_count": 5,
      "outputs": []
    },
    {
      "cell_type": "code",
      "source": [
        "# create a train/test split\n",
        "train_split = int(0.8 * len(X))\n",
        "X_train, Y_train = X[:train_split], Y[:train_split]\n",
        "X_test, Y_test = X[train_split:], Y[train_split:]\n",
        "\n",
        "len(X_train), len(Y_train), len(X_test), len(Y_test)"
      ],
      "metadata": {
        "colab": {
          "base_uri": "https://localhost:8080/"
        },
        "id": "Yhj4AAdufOoo",
        "outputId": "dbac9e2f-fda0-40b0-ad10-0452e91664eb"
      },
      "execution_count": 6,
      "outputs": [
        {
          "output_type": "execute_result",
          "data": {
            "text/plain": [
              "(40, 40, 10, 10)"
            ]
          },
          "metadata": {},
          "execution_count": 6
        }
      ]
    },
    {
      "cell_type": "code",
      "source": [
        "#visualizing data -> matplot\n",
        "def plot_predictions(train_data = X_train,\n",
        "                     train_labels = Y_train,\n",
        "                     test_data = X_test,\n",
        "                     test_labels = Y_test,\n",
        "                     predictions = None):\n",
        "  #plots training data, test data, and compares predictions\n",
        "  plt.figure(figsize=(10,7))\n",
        "  #training data in blue\n",
        "  plt.scatter(train_data, train_labels, c=\"b\", s=4, label=\"Training Data\")\n",
        "  plt.scatter(test_data, test_labels, c=\"g\", s=4, label=\"Testing Data\")\n",
        "\n",
        "  #Are there predictions\n",
        "  if predictions is not None:\n",
        "    plt.scatter(test_data, predictions, c=\"r\", s=4, label=\"Predictions\")\n",
        "  plt.legend(prop={\"size\": 14})\n"
      ],
      "metadata": {
        "id": "7_li5ON4f0sf"
      },
      "execution_count": 7,
      "outputs": []
    },
    {
      "cell_type": "code",
      "source": [
        "plot_predictions()"
      ],
      "metadata": {
        "colab": {
          "base_uri": "https://localhost:8080/",
          "height": 460
        },
        "id": "Tx4qfUA9umdB",
        "outputId": "d3b231db-8874-4d41-d23a-7510feb82f29"
      },
      "execution_count": 8,
      "outputs": [
        {
          "output_type": "display_data",
          "data": {
            "text/plain": [
              "<Figure size 1000x700 with 1 Axes>"
            ],
            "image/png": "[encoded data removed]"
          },
          "metadata": {}
        }
      ]
    },
    {
      "cell_type": "markdown",
      "source": [
        "##2. Building model\n",
        "\n",
        "1. Starts with random values (weight and bias)\n",
        "2. Looks at training data and adjusts values to the ideal value\n",
        "\n",
        "How does it do so?\n",
        "1. gradient descent\n",
        "2. backpropagation"
      ],
      "metadata": {
        "id": "Gdk7OkRquqIh"
      }
    },
    {
      "cell_type": "code",
      "source": [
        "#linear regression model class\n",
        "class LinearRegressionModel(nn.Module):\n",
        "  #good inheritor\n",
        "  def __init__(self):\n",
        "    super().__init__()\n",
        "    self.weight = nn.Parameter(torch.randn(1,\n",
        "                                            requires_grad=True,\n",
        "                                            dtype=torch.float))\n",
        "    self.bias = nn.Parameter(torch.rand(1,\n",
        "                                      requires_grad=True,\n",
        "                                      dtype=torch.float))\n",
        "  # Forward method to define the computation in the model\n",
        "  #x: is input type -> output type\n",
        "  def forward(self, x: torch.Tensor) -> torch.Tensor:\n",
        "    return self.weight * x + self.bias\n",
        "\n",
        "\n"
      ],
      "metadata": {
        "id": "zFJqWdY3vFeM"
      },
      "execution_count": 10,
      "outputs": []
    },
    {
      "cell_type": "markdown",
      "source": [
        "### pytorch model building essentials\n",
        "* torch.nn - contains all of the buildings for computational graphs (aka neural nets)\n",
        "* torch.nn.Parameter - what parameters are trying to learn, usually torch.nn will set this for us\n",
        "* torch.nn.Module - base class for all nn modules, make sure to override forward if you make on\n",
        "* torch.optim - this is where the optimizers in PyTorch live, helps with grad descent\n",
        "* def forward() - all nn.module subclasses require and override tells what you are doing\n",
        "https://pytorch.org/tutorials/beginner/ptcheat.html"
      ],
      "metadata": {
        "id": "_BCaZtFMtaqw"
      }
    },
    {
      "cell_type": "code",
      "source": [
        "### Checking contents of our pytorch model\n",
        "#.parameters() check our model parameters\n",
        "torch.manual_seed(42)\n",
        "#create an instance of the model we created\n",
        "model_0 = LinearRegressionModel()\n",
        "model_0\n",
        "list(model_0.parameters())"
      ],
      "metadata": {
        "colab": {
          "base_uri": "https://localhost:8080/"
        },
        "id": "MkHFQNhZuFJm",
        "outputId": "ce7d6f3e-abf2-4a0e-84cb-663440aaff90"
      },
      "execution_count": 17,
      "outputs": [
        {
          "output_type": "execute_result",
          "data": {
            "text/plain": [
              "[Parameter containing:\n",
              " tensor([0.3367], requires_grad=True),\n",
              " Parameter containing:\n",
              " tensor([0.3904], requires_grad=True)]"
            ]
          },
          "metadata": {},
          "execution_count": 17
        }
      ]
    },
    {
      "cell_type": "code",
      "source": [
        "#named parameters\n",
        "model_0.state_dict()"
      ],
      "metadata": {
        "colab": {
          "base_uri": "https://localhost:8080/"
        },
        "id": "n33JE5PP2j6W",
        "outputId": "a7b05403-5137-48c2-8e4a-48957ea9b506"
      },
      "execution_count": 18,
      "outputs": [
        {
          "output_type": "execute_result",
          "data": {
            "text/plain": [
              "OrderedDict([('weight', tensor([0.3367])), ('bias', tensor([0.3904]))])"
            ]
          },
          "metadata": {},
          "execution_count": 18
        }
      ]
    },
    {
      "cell_type": "markdown",
      "source": [
        "### predictions through torch.inference_mode()\n",
        "\n",
        "To check our model's predictive power, lets see how well it predicts our dependent variable from our independent variable\n",
        "pass date throuhg --> forward()"
      ],
      "metadata": {
        "id": "keLEWFGt3D6E"
      }
    },
    {
      "cell_type": "code",
      "source": [
        "X_test, Y_test"
      ],
      "metadata": {
        "colab": {
          "base_uri": "https://localhost:8080/"
        },
        "id": "mPF9BykB35SC",
        "outputId": "3f9bbf4c-c773-4ff2-82bf-830cc48c4b81"
      },
      "execution_count": 19,
      "outputs": [
        {
          "output_type": "execute_result",
          "data": {
            "text/plain": [
              "(tensor([[0.8000],\n",
              "         [0.8200],\n",
              "         [0.8400],\n",
              "         [0.8600],\n",
              "         [0.8800],\n",
              "         [0.9000],\n",
              "         [0.9200],\n",
              "         [0.9400],\n",
              "         [0.9600],\n",
              "         [0.9800]]),\n",
              " tensor([[0.8600],\n",
              "         [0.8740],\n",
              "         [0.8880],\n",
              "         [0.9020],\n",
              "         [0.9160],\n",
              "         [0.9300],\n",
              "         [0.9440],\n",
              "         [0.9580],\n",
              "         [0.9720],\n",
              "         [0.9860]]))"
            ]
          },
          "metadata": {},
          "execution_count": 19
        }
      ]
    },
    {
      "cell_type": "code",
      "source": [
        "with torch.inference_mode(): #inference mode takes out the grad funcion\n",
        "  y_preds= model_0(X_test)\n",
        "  #torch.no_grad() similar but inference is preferred\n",
        "y_preds\n"
      ],
      "metadata": {
        "colab": {
          "base_uri": "https://localhost:8080/"
        },
        "id": "gFOGkSLZ3x4K",
        "outputId": "b3a0271b-3782-4ea5-9741-dd59e9b8f028"
      },
      "execution_count": 20,
      "outputs": [
        {
          "output_type": "execute_result",
          "data": {
            "text/plain": [
              "tensor([[0.6598],\n",
              "        [0.6665],\n",
              "        [0.6733],\n",
              "        [0.6800],\n",
              "        [0.6867],\n",
              "        [0.6935],\n",
              "        [0.7002],\n",
              "        [0.7069],\n",
              "        [0.7137],\n",
              "        [0.7204]])"
            ]
          },
          "metadata": {},
          "execution_count": 20
        }
      ]
    },
    {
      "cell_type": "code",
      "source": [
        "#the \"random\" predictions\n",
        "plot_predictions(predictions = y_preds)"
      ],
      "metadata": {
        "colab": {
          "base_uri": "https://localhost:8080/",
          "height": 460
        },
        "id": "nSmVPTdb4e1q",
        "outputId": "682a06ba-f713-441f-a5d9-b1a2124c0364"
      },
      "execution_count": 21,
      "outputs": [
        {
          "output_type": "display_data",
          "data": {
            "text/plain": [
              "<Figure size 1000x700 with 1 Axes>"
            ],
            "image/png": "[encoded data removed]"
          },
          "metadata": {}
        }
      ]
    },
    {
      "cell_type": "markdown",
      "source": [
        "###2. Creating Training Code\n",
        "\n",
        "move from unknown parameters to known parameters -> bad representation to good representation\n",
        "\n",
        "Measure how poor/wrong model is, create a loss function(criterion/ cost function)\n",
        "\n",
        "Things we need to train\n",
        "\n",
        "**Loss Function**: function to measure how off a prediction is\n",
        "\n",
        "**Optimizer**: take into account the loss of a model and adjusts the models parameters\n",
        "\n",
        "    - inside an optimizer you have\n",
        "        - params - the model parameters\n",
        "        - lr (learning rate) - the hyperparameter that defines how big/small the optimizer changes the parameters with each step\n",
        "\n",
        "And specifically for PyTorch, we need\n",
        "\n",
        "\n",
        "*   training loop\n",
        "*   testing loop\n",
        "\n"
      ],
      "metadata": {
        "id": "ZJ6XbnPb44FT"
      }
    },
    {
      "cell_type": "code",
      "source": [
        "#looking at models parameters\n",
        "model_0.state_dict()"
      ],
      "metadata": {
        "colab": {
          "base_uri": "https://localhost:8080/"
        },
        "id": "Mwupmdjq6Xbt",
        "outputId": "57e326b7-9fea-4d40-f140-b2f88542c736"
      },
      "execution_count": 22,
      "outputs": [
        {
          "output_type": "execute_result",
          "data": {
            "text/plain": [
              "OrderedDict([('weight', tensor([0.3367])), ('bias', tensor([0.3904]))])"
            ]
          },
          "metadata": {},
          "execution_count": 22
        }
      ]
    },
    {
      "cell_type": "code",
      "source": [
        "##setting up the loss function\n",
        "\"\"\"MAE_loss (l1 norm) = torch.mean(torch.abs(y_pred-Y_test))\"\"\"\n",
        "loss_fn = torch.nn.L1Loss()\n",
        "## setting up the optimizer (stochastic gradient descent) changes one till it messes up and changes the other\n",
        "optimizer = torch.optim.SGD(params=model_0.parameters(),\n",
        "                            lr = 0.01) #lr learning rate = adjustment rate"
      ],
      "metadata": {
        "id": "P0sX9JeS6aZ4"
      },
      "execution_count": 27,
      "outputs": []
    },
    {
      "cell_type": "code",
      "source": [
        "##Building a Training Loop (and teseting loop)\n",
        "\n",
        "\"\"\"\n",
        "0. Loop through the data\n",
        "1. forward pass (this involves data moving through forward functions) to make predictions on data\n",
        "2. Calculate the loss - compare pass predictions to ground truth labels\n",
        "3. Optimizer zero grad\n",
        "4. Loss backward [Back Propogation] - move backwards through the network to calculate the gradients of each of the parameters of our model with respect to loss\n",
        "5. Optimizer step [gradient descent] - use optimizer to adjust our model's parameters to try and improve the loss\n",
        "\"\"\""
      ],
      "metadata": {
        "colab": {
          "base_uri": "https://localhost:8080/",
          "height": 137
        },
        "id": "jnLI5Ih67t0w",
        "outputId": "89946794-99b2-4bd8-8bec-72b0381aae44"
      },
      "execution_count": 29,
      "outputs": [
        {
          "output_type": "execute_result",
          "data": {
            "text/plain": [
              "\"\\n0. Loop through the data \\n1. forward pass (this involves data moving through forward functions) to make predictions on data\\n2. Calculate the loss - compare pass predictions to ground truth labels\\n3. Optimizer zero grad\\n4. Loss backward [Back Propogation] - move backwards through the network to calculate the gradients of each of the parameters of our model with respect to loss\\n5. Optimizer step [gradient descent] - use optimizer to adjust our model's parameters to try and improve the loss\\n\""
            ],
            "application/vnd.google.colaboratory.intrinsic+json": {
              "type": "string"
            }
          },
          "metadata": {},
          "execution_count": 29
        }
      ]
    },
    {
      "cell_type": "code",
      "source": [
        "# an epoch is one loop through the data ...\n",
        "epochs = 1 #hyperparameter becasue we've set them ourselves\n",
        "\n",
        "\n",
        "###training\n",
        "#0. loop through the data\n",
        "for epoch in range(epochs):\n",
        "  #set model to training mode ... require gradients\n",
        "  model_0.train()\n",
        "  #1. Foward pass\n",
        "  y_pred = model_0(X_train) #passing through the training data (part 1)\n",
        "\n",
        "  #2. Calculate the loss\n",
        "  loss = loss_fn(y_pred, Y_train) #from setting up loss function\n",
        "\n",
        "  #3. Optimizer zero grad\n",
        "  optimizer.zero_grad()\n",
        "\n",
        "  #4. Perform backpropagation on the loss with repsect to the parameters of the model\n",
        "  loss.backward()\n",
        "\n",
        "  #5. step the optimizer (perform gradient descent)\n",
        "  optimizer.step() #by default how the optimizer accumulates so we have to zero it so the step doesnt change\n",
        "\n",
        "  #model_0.eval() #turns of gradient tracking\n"
      ],
      "metadata": {
        "id": "Gbj0a64j7upZ"
      },
      "execution_count": 30,
      "outputs": []
    },
    {
      "cell_type": "code",
      "source": [],
      "metadata": {
        "id": "EBMW2VQSGvqC"
      },
      "execution_count": null,
      "outputs": []
    }
  ]
}